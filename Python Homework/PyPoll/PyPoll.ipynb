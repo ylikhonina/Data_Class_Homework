{
 "cells": [
  {
   "cell_type": "code",
   "execution_count": 1,
   "metadata": {},
   "outputs": [],
   "source": [
    "import os\n",
    "import csv\n"
   ]
  },
  {
   "cell_type": "code",
   "execution_count": 2,
   "metadata": {},
   "outputs": [],
   "source": [
    "election_csv = os.path.join(\"Resources\", \"election_data.csv\")\n"
   ]
  },
  {
   "cell_type": "code",
   "execution_count": 3,
   "metadata": {},
   "outputs": [],
   "source": [
    "total_votes = 0\n",
    "khan_votes = 0\n",
    "correy_votes = 0\n",
    "li_votes = 0\n",
    "otooley_votes = 0\n"
   ]
  },
  {
   "cell_type": "code",
   "execution_count": 13,
   "metadata": {},
   "outputs": [],
   "source": [
    "with open (election_csv) as file:\n",
    "    csvreader = csv.reader(file, delimiter =\",\")\n",
    "    header = next (csvreader)\n",
    "\n",
    "    for row in csvreader:\n",
    "        total_votes += 1\n",
    "    \n",
    "        if row[2] == \"Khan\":\n",
    "            khan_votes += 1\n",
    "        elif row[2] == \"Correy\":\n",
    "            correy_votes += 1\n",
    "        elif row[2] == \"Li\":\n",
    "            li_votes += 1\n",
    "        elif row[2] == \"O'Tooley\":\n",
    "            otooley_votes += 1\n"
   ]
  },
  {
   "cell_type": "code",
   "execution_count": 14,
   "metadata": {},
   "outputs": [],
   "source": [
    "candidate = [\"Khan\", \"Correy\", \"Li\", \"O'Tooley\"]\n",
    "votes = [khan_votes, correy_votes, li_votes, otooley_votes]\n"
   ]
  },
  {
   "cell_type": "code",
   "execution_count": 15,
   "metadata": {},
   "outputs": [],
   "source": [
    "candidate_votes_combined = dict(zip (candidate, votes))\n",
    "winner = max(candidate_votes_combined, key=candidate_votes_combined.get)\n"
   ]
  },
  {
   "cell_type": "code",
   "execution_count": 16,
   "metadata": {},
   "outputs": [],
   "source": [
    "khan_percent = (khan_votes/total_votes)*100\n",
    "correy_percent = (correy_votes/total_votes)*100\n",
    "li_percent = (li_votes/total_votes)*100\n",
    "otooley_percent = (otooley_votes/total_votes)*100\n"
   ]
  },
  {
   "cell_type": "code",
   "execution_count": 17,
   "metadata": {},
   "outputs": [
    {
     "name": "stdout",
     "output_type": "stream",
     "text": [
      "Election Results\n",
      "-------------------------\n",
      "Total Votes: 10563003\n",
      "-------------------------\n",
      "Khan: 42.00% (4436462)\n",
      "Correy: 13.33% (1408400)\n",
      "Li: 9.33% (985880)\n",
      "O'Tooley: 2.00% (211260)\n",
      "-------------------------\n",
      "Winner: Khan\n",
      "-------------------------\n"
     ]
    }
   ],
   "source": [
    "print (f\"Election Results\")\n",
    "print (f\"-------------------------\")\n",
    "print (f\"Total Votes: {total_votes}\")\n",
    "print (f\"-------------------------\")\n",
    "print (f\"Khan: {khan_percent:.2f}% ({khan_votes})\")\n",
    "print (f\"Correy: {correy_percent:.2f}% ({correy_votes})\")\n",
    "print (f\"Li: {li_percent:.2f}% ({li_votes})\")\n",
    "print (f\"O'Tooley: {otooley_percent:.2f}% ({otooley_votes})\")\n",
    "print (f\"-------------------------\")\n",
    "print (f\"Winner: {winner}\")\n",
    "print (f\"-------------------------\")\n"
   ]
  },
  {
   "cell_type": "code",
   "execution_count": 18,
   "metadata": {},
   "outputs": [],
   "source": [
    "output_file = os.path.join(\"Election_Results.txt\")\n"
   ]
  },
  {
   "cell_type": "code",
   "execution_count": 19,
   "metadata": {},
   "outputs": [],
   "source": [
    "with open(output_file, \"w\") as file:\n",
    "    file.write (f\"Election Results\")\n",
    "    file.write(\"\\n\")\n",
    "    file.write (f\"-------------------------\")\n",
    "    file.write(\"\\n\")\n",
    "    file.write (f\"Total Votes: {total_votes}\")\n",
    "    file.write(\"\\n\")\n",
    "    file.write (f\"-------------------------\")\n",
    "    file.write(\"\\n\")\n",
    "    file.write (f\"Khan: {khan_percent:.2f}% ({khan_votes})\")\n",
    "    file.write(\"\\n\")\n",
    "    file.write (f\"Correy: {correy_percent:.2f}% ({correy_votes})\")\n",
    "    file.write(\"\\n\")\n",
    "    file.write (f\"Li: {li_percent:.2f}% ({li_votes})\")\n",
    "    file.write(\"\\n\")\n",
    "    file.write (f\"O'Tooley: {otooley_percent:.2f}% ({otooley_votes})\")\n",
    "    file.write(\"\\n\")\n",
    "    file.write (f\"-------------------------\")\n",
    "    file.write(\"\\n\")\n",
    "    file.write (f\"Winner: {winner}\")\n",
    "    file.write(\"\\n\")\n",
    "    file.write (f\"-------------------------\")\n"
   ]
  },
  {
   "cell_type": "code",
   "execution_count": null,
   "metadata": {},
   "outputs": [],
   "source": []
  }
 ],
 "metadata": {
  "kernelspec": {
   "display_name": "Python 3",
   "language": "python",
   "name": "python3"
  },
  "language_info": {
   "codemirror_mode": {
    "name": "ipython",
    "version": 3
   },
   "file_extension": ".py",
   "mimetype": "text/x-python",
   "name": "python",
   "nbconvert_exporter": "python",
   "pygments_lexer": "ipython3",
   "version": "3.7.4"
  }
 },
 "nbformat": 4,
 "nbformat_minor": 2
}
