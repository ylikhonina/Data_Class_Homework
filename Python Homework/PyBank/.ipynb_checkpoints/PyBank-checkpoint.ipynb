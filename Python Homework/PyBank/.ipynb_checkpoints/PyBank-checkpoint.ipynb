{
 "cells": [
  {
   "cell_type": "code",
   "execution_count": 1,
   "metadata": {},
   "outputs": [],
   "source": [
    "import os\n",
    "import csv\n"
   ]
  },
  {
   "cell_type": "code",
   "execution_count": 2,
   "metadata": {},
   "outputs": [],
   "source": [
    "budget_csv = os.path.join(\"Resources\", \"budget_data.csv\")"
   ]
  },
  {
   "cell_type": "code",
   "execution_count": 3,
   "metadata": {},
   "outputs": [],
   "source": [
    "months = []\n",
    "profit = []\n",
    "change = []\n"
   ]
  },
  {
   "cell_type": "code",
   "execution_count": 9,
   "metadata": {},
   "outputs": [],
   "source": [
    "with open (budget_csv) as csvfile:\n",
    "    csv_reader = csv.reader(csvfile, delimiter =\",\")\n",
    "    header = next (csv_reader)\n",
    "    for row in csv_reader:\n",
    "        months.append(row[0])\n",
    "        profit.append(int (row [1]))\n"
   ]
  },
  {
   "cell_type": "code",
   "execution_count": 10,
   "metadata": {},
   "outputs": [],
   "source": [
    "for i in range (len (profit)-1):\n",
    "    change.append(profit[i+1]  - profit[i])\n"
   ]
  },
  {
   "cell_type": "code",
   "execution_count": 11,
   "metadata": {},
   "outputs": [],
   "source": [
    "greatest_inc = max (change)\n",
    "greatest_dec = min (change)\n"
   ]
  },
  {
   "cell_type": "code",
   "execution_count": 12,
   "metadata": {},
   "outputs": [],
   "source": [
    "greatest_inc_date = change.index(max(change)) + 1\n",
    "greatest_dec_date = change.index(min(change)) + 1\n"
   ]
  },
  {
   "cell_type": "code",
   "execution_count": 13,
   "metadata": {},
   "outputs": [
    {
     "name": "stdout",
     "output_type": "stream",
     "text": [
      "Financial Analysis\n",
      "----------------------------\n",
      "Total Months: 86\n",
      "Total: $38382578\n",
      "Average Change: -2315.12\n",
      "Greatest Increase in Profits: Feb-2012 ($1926159)\n",
      "Greatest Decrease in Profits: Sep-2013 ($-2196167)\n"
     ]
    }
   ],
   "source": [
    "print (\"Financial Analysis\")\n",
    "print (\"----------------------------\")\n",
    "print (f\"Total Months: {len(months)}\" )\n",
    "print (f\"Total: ${sum(profit)}\" )\n",
    "print (f\"Average Change: {round(sum(change)/len (change),2)}\")\n",
    "print (f\"Greatest Increase in Profits: {months[greatest_inc_date]} (${(str(greatest_inc))})\")\n",
    "print (f\"Greatest Decrease in Profits: {months[greatest_dec_date]} (${(str(greatest_dec))})\")\n"
   ]
  },
  {
   "cell_type": "code",
   "execution_count": 14,
   "metadata": {},
   "outputs": [],
   "source": [
    "output_file = os.path.join(\"Financial_Analysis.txt\")\n"
   ]
  },
  {
   "cell_type": "code",
   "execution_count": 15,
   "metadata": {},
   "outputs": [],
   "source": [
    "with open(output_file, \"w\") as file:\n",
    "    file.write(\"Financial Analysis\")\n",
    "    file.write(\"\\n\")\n",
    "    file.write(\"----------------------------\")\n",
    "    file.write(\"\\n\")\n",
    "    file.write(f\"Total Months: {len(months)}\" )\n",
    "    file.write(\"\\n\")\n",
    "    file.write(f\"Total: ${sum(profit)}\" )\n",
    "    file.write(\"\\n\")\n",
    "    file.write(f\"Average Change: {round(sum(change)/len (change),2)}\")\n",
    "    file.write(\"\\n\")\n",
    "    file.write(f\"Greatest Increase in Profits: {months[greatest_inc_date]} (${(str(greatest_inc))})\")\n",
    "    file.write(\"\\n\")\n",
    "    file.write(f\"Greatest Decrease in Profits: {months[greatest_dec_date]} (${(str(greatest_dec))})\")\n",
    "\n"
   ]
  }
 ],
 "metadata": {
  "kernelspec": {
   "display_name": "Python 3",
   "language": "python",
   "name": "python3"
  },
  "language_info": {
   "codemirror_mode": {
    "name": "ipython",
    "version": 3
   },
   "file_extension": ".py",
   "mimetype": "text/x-python",
   "name": "python",
   "nbconvert_exporter": "python",
   "pygments_lexer": "ipython3",
   "version": "3.7.4"
  }
 },
 "nbformat": 4,
 "nbformat_minor": 2
}
